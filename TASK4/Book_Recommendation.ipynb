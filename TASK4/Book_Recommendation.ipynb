{
  "metadata": {
    "kernelspec": {
      "language": "python",
      "display_name": "Python 3",
      "name": "python3"
    },
    "language_info": {
      "name": "python",
      "version": "3.10.13",
      "mimetype": "text/x-python",
      "codemirror_mode": {
        "name": "ipython",
        "version": 3
      },
      "pygments_lexer": "ipython3",
      "nbconvert_exporter": "python",
      "file_extension": ".py"
    },
    "kaggle": {
      "accelerator": "none",
      "dataSources": [
        {
          "sourceId": 7595263,
          "sourceType": "datasetVersion",
          "datasetId": 1004280
        }
      ],
      "dockerImageVersionId": 30715,
      "isInternetEnabled": false,
      "language": "python",
      "sourceType": "notebook",
      "isGpuEnabled": false
    },
    "colab": {
      "name": "Book Recommendation",
      "provenance": []
    }
  },
  "nbformat_minor": 0,
  "nbformat": 4,
  "cells": [
    {
      "source": [
        "\n",
        "# IMPORTANT: RUN THIS CELL IN ORDER TO IMPORT YOUR KAGGLE DATA SOURCES\n",
        "# TO THE CORRECT LOCATION (/kaggle/input) IN YOUR NOTEBOOK,\n",
        "# THEN FEEL FREE TO DELETE THIS CELL.\n",
        "# NOTE: THIS NOTEBOOK ENVIRONMENT DIFFERS FROM KAGGLE'S PYTHON\n",
        "# ENVIRONMENT SO THERE MAY BE MISSING LIBRARIES USED BY YOUR\n",
        "# NOTEBOOK.\n",
        "\n",
        "import os\n",
        "import sys\n",
        "from tempfile import NamedTemporaryFile\n",
        "from urllib.request import urlopen\n",
        "from urllib.parse import unquote, urlparse\n",
        "from urllib.error import HTTPError\n",
        "from zipfile import ZipFile\n",
        "import tarfile\n",
        "import shutil\n",
        "\n",
        "CHUNK_SIZE = 40960\n",
        "DATA_SOURCE_MAPPING = 'book-recommendation-dataset:https%3A%2F%2Fstorage.googleapis.com%2Fkaggle-data-sets%2F1004280%2F7595263%2Fbundle%2Farchive.zip%3FX-Goog-Algorithm%3DGOOG4-RSA-SHA256%26X-Goog-Credential%3Dgcp-kaggle-com%2540kaggle-161607.iam.gserviceaccount.com%252F20240602%252Fauto%252Fstorage%252Fgoog4_request%26X-Goog-Date%3D20240602T145817Z%26X-Goog-Expires%3D259200%26X-Goog-SignedHeaders%3Dhost%26X-Goog-Signature%3D25ec1e1c9ed66652bdbabe7740fb8b78efd5d6fa5fff838546e601590cb08c7f1eb7e7221ca6b4247546506e410b5fa39b29faf4f657df5241652dc2d3443a2b6f8833577277b5451f5f0d99fe6ce4d74b65f2e369049085911da38c7169c861e1dd4e164386a5b068744e0a8f3da1420d9fff47e6289cb2a2cfa91f2ee21ee72fbbedd839919c33ae9ce49d151fb3b422a3330ab8af12ad094ba5754da800375113dfc00ca00793611c929d37ecfe6b65a20d6d2270f991efc323caef7315697a30b9aeaa951c6e8bd31453e82a867f74f9b356ba07d9341b8e37ed3417b02f80d15e110ac46582bcbe833fd66071593d5bf553f5b9b68e0a35c6073201a69a'\n",
        "\n",
        "KAGGLE_INPUT_PATH='/kaggle/input'\n",
        "KAGGLE_WORKING_PATH='/kaggle/working'\n",
        "KAGGLE_SYMLINK='kaggle'\n",
        "\n",
        "!umount /kaggle/input/ 2> /dev/null\n",
        "shutil.rmtree('/kaggle/input', ignore_errors=True)\n",
        "os.makedirs(KAGGLE_INPUT_PATH, 0o777, exist_ok=True)\n",
        "os.makedirs(KAGGLE_WORKING_PATH, 0o777, exist_ok=True)\n",
        "\n",
        "try:\n",
        "  os.symlink(KAGGLE_INPUT_PATH, os.path.join(\"..\", 'input'), target_is_directory=True)\n",
        "except FileExistsError:\n",
        "  pass\n",
        "try:\n",
        "  os.symlink(KAGGLE_WORKING_PATH, os.path.join(\"..\", 'working'), target_is_directory=True)\n",
        "except FileExistsError:\n",
        "  pass\n",
        "\n",
        "for data_source_mapping in DATA_SOURCE_MAPPING.split(','):\n",
        "    directory, download_url_encoded = data_source_mapping.split(':')\n",
        "    download_url = unquote(download_url_encoded)\n",
        "    filename = urlparse(download_url).path\n",
        "    destination_path = os.path.join(KAGGLE_INPUT_PATH, directory)\n",
        "    try:\n",
        "        with urlopen(download_url) as fileres, NamedTemporaryFile() as tfile:\n",
        "            total_length = fileres.headers['content-length']\n",
        "            print(f'Downloading {directory}, {total_length} bytes compressed')\n",
        "            dl = 0\n",
        "            data = fileres.read(CHUNK_SIZE)\n",
        "            while len(data) > 0:\n",
        "                dl += len(data)\n",
        "                tfile.write(data)\n",
        "                done = int(50 * dl / int(total_length))\n",
        "                sys.stdout.write(f\"\\r[{'=' * done}{' ' * (50-done)}] {dl} bytes downloaded\")\n",
        "                sys.stdout.flush()\n",
        "                data = fileres.read(CHUNK_SIZE)\n",
        "            if filename.endswith('.zip'):\n",
        "              with ZipFile(tfile) as zfile:\n",
        "                zfile.extractall(destination_path)\n",
        "            else:\n",
        "              with tarfile.open(tfile.name) as tarfile:\n",
        "                tarfile.extractall(destination_path)\n",
        "            print(f'\\nDownloaded and uncompressed: {directory}')\n",
        "    except HTTPError as e:\n",
        "        print(f'Failed to load (likely expired) {download_url} to path {destination_path}')\n",
        "        continue\n",
        "    except OSError as e:\n",
        "        print(f'Failed to load {download_url} to path {destination_path}')\n",
        "        continue\n",
        "\n",
        "print('Data source import complete.')\n"
      ],
      "metadata": {
        "id": "UoDeDvt_dVhV"
      },
      "cell_type": "code",
      "outputs": [],
      "execution_count": null
    },
    {
      "cell_type": "code",
      "source": [
        "import numpy as np # linear algebra\n",
        "import pandas as pd # data processing, CSV file I/O (e.g. pd.read_csv)"
      ],
      "metadata": {
        "_uuid": "8f2839f25d086af736a60e9eeb907d3b93b6e0e5",
        "_cell_guid": "b1076dfc-b9ad-4769-8c92-a6c4dae69d19",
        "execution": {
          "iopub.status.busy": "2024-06-01T16:19:48.334112Z",
          "iopub.execute_input": "2024-06-01T16:19:48.334524Z",
          "iopub.status.idle": "2024-06-01T16:19:49.834626Z",
          "shell.execute_reply.started": "2024-06-01T16:19:48.334491Z",
          "shell.execute_reply": "2024-06-01T16:19:49.833288Z"
        },
        "trusted": true,
        "id": "prFSqpU6dVhY"
      },
      "execution_count": null,
      "outputs": []
    },
    {
      "cell_type": "code",
      "source": [
        "book_df = pd.read_csv('../input/book-recommendation-dataset/Books.csv')\n",
        "ratings_df = pd.read_csv('../input/book-recommendation-dataset/Ratings.csv').sample(40000)\n",
        "user_df = pd.read_csv('../input/book-recommendation-dataset/Users.csv')\n",
        "user_rating_df = ratings_df.merge(user_df, left_on = 'User-ID', right_on = 'User-ID')"
      ],
      "metadata": {
        "execution": {
          "iopub.status.busy": "2024-06-01T16:19:49.837295Z",
          "iopub.execute_input": "2024-06-01T16:19:49.838766Z",
          "iopub.status.idle": "2024-06-01T16:19:54.739391Z",
          "shell.execute_reply.started": "2024-06-01T16:19:49.838711Z",
          "shell.execute_reply": "2024-06-01T16:19:54.737987Z"
        },
        "trusted": true,
        "id": "zzgTdlrndVhY",
        "outputId": "02ac3d2d-a1bb-4544-aa79-c9254dc69441"
      },
      "execution_count": null,
      "outputs": [
        {
          "name": "stderr",
          "text": "/tmp/ipykernel_33/2078159047.py:1: DtypeWarning: Columns (3) have mixed types. Specify dtype option on import or set low_memory=False.\n  book_df = pd.read_csv('../input/book-recommendation-dataset/Books.csv')\n",
          "output_type": "stream"
        }
      ]
    },
    {
      "cell_type": "code",
      "source": [
        "book_user_rating = book_df.merge(user_rating_df, left_on = 'ISBN',right_on = 'ISBN')\n",
        "book_user_rating = book_user_rating[['ISBN', 'Book-Title', 'Book-Author', 'User-ID', 'Book-Rating']]\n",
        "book_user_rating.reset_index(drop=True, inplace = True)"
      ],
      "metadata": {
        "execution": {
          "iopub.status.busy": "2024-06-01T16:19:54.743723Z",
          "iopub.execute_input": "2024-06-01T16:19:54.744617Z",
          "iopub.status.idle": "2024-06-01T16:19:54.9776Z",
          "shell.execute_reply.started": "2024-06-01T16:19:54.744582Z",
          "shell.execute_reply": "2024-06-01T16:19:54.976394Z"
        },
        "trusted": true,
        "id": "k_wLsoIGdVhZ"
      },
      "execution_count": null,
      "outputs": []
    },
    {
      "cell_type": "code",
      "source": [
        "d ={}\n",
        "for i,j in enumerate(book_user_rating.ISBN.unique()):\n",
        "    d[j] =i\n",
        "book_user_rating['unique_id_book'] = book_user_rating['ISBN'].map(d)"
      ],
      "metadata": {
        "execution": {
          "iopub.status.busy": "2024-06-01T16:19:54.979029Z",
          "iopub.execute_input": "2024-06-01T16:19:54.979332Z",
          "iopub.status.idle": "2024-06-01T16:19:55.038047Z",
          "shell.execute_reply.started": "2024-06-01T16:19:54.979305Z",
          "shell.execute_reply": "2024-06-01T16:19:55.036623Z"
        },
        "trusted": true,
        "id": "FzMuUut3dVha"
      },
      "execution_count": null,
      "outputs": []
    },
    {
      "cell_type": "code",
      "source": [
        "users_books_pivot_matrix_df = book_user_rating.pivot(index='User-ID',\n",
        "                                                          columns='unique_id_book',\n",
        "                                                          values='Book-Rating').fillna(0)"
      ],
      "metadata": {
        "execution": {
          "iopub.status.busy": "2024-06-01T16:19:55.041399Z",
          "iopub.execute_input": "2024-06-01T16:19:55.041839Z",
          "iopub.status.idle": "2024-06-01T16:19:58.341776Z",
          "shell.execute_reply.started": "2024-06-01T16:19:55.041802Z",
          "shell.execute_reply": "2024-06-01T16:19:58.340841Z"
        },
        "trusted": true,
        "id": "wRmqLfxwdVha"
      },
      "execution_count": null,
      "outputs": []
    },
    {
      "cell_type": "code",
      "source": [
        "users_books_pivot_matrix_df.head()"
      ],
      "metadata": {
        "execution": {
          "iopub.status.busy": "2024-06-01T16:19:58.34486Z",
          "iopub.execute_input": "2024-06-01T16:19:58.345211Z",
          "iopub.status.idle": "2024-06-01T16:19:58.390009Z",
          "shell.execute_reply.started": "2024-06-01T16:19:58.345182Z",
          "shell.execute_reply": "2024-06-01T16:19:58.388811Z"
        },
        "trusted": true,
        "id": "ELdZUlcWdVha",
        "outputId": "70e4f530-c35d-4a7d-ac79-f5e99d165c7c"
      },
      "execution_count": null,
      "outputs": [
        {
          "execution_count": 6,
          "output_type": "execute_result",
          "data": {
            "text/plain": "unique_id_book  0      1      2      3      4      5      6      7      8      \\\nUser-ID                                                                         \n8                 0.0    0.0    0.0    6.0    0.0    0.0    0.0    0.0    0.0   \n14                0.0    0.0    0.0    0.0    0.0    0.0    0.0    0.0    6.0   \n17                0.0    0.0    0.0    0.0    0.0    0.0    0.0    0.0    0.0   \n39                0.0    0.0    0.0    0.0    0.0    0.0    0.0    0.0    0.0   \n95                0.0    0.0    0.0    0.0    0.0    0.0    0.0    0.0    0.0   \n\nunique_id_book  9      ...  26162  26163  26164  26165  26166  26167  26168  \\\nUser-ID                ...                                                    \n8                 0.0  ...    0.0    0.0    0.0    0.0    0.0    0.0    0.0   \n14                0.0  ...    0.0    0.0    0.0    0.0    0.0    0.0    0.0   \n17                0.0  ...    0.0    0.0    0.0    0.0    0.0    0.0    0.0   \n39                0.0  ...    0.0    0.0    0.0    0.0    0.0    0.0    0.0   \n95                0.0  ...    0.0    0.0    0.0    0.0    0.0    0.0    0.0   \n\nunique_id_book  26169  26170  26171  \nUser-ID                              \n8                 0.0    0.0    0.0  \n14                0.0    0.0    0.0  \n17                0.0    0.0    0.0  \n39                0.0    0.0    0.0  \n95                0.0    0.0    0.0  \n\n[5 rows x 26172 columns]",
            "text/html": "<div>\n<style scoped>\n    .dataframe tbody tr th:only-of-type {\n        vertical-align: middle;\n    }\n\n    .dataframe tbody tr th {\n        vertical-align: top;\n    }\n\n    .dataframe thead th {\n        text-align: right;\n    }\n</style>\n<table border=\"1\" class=\"dataframe\">\n  <thead>\n    <tr style=\"text-align: right;\">\n      <th>unique_id_book</th>\n      <th>0</th>\n      <th>1</th>\n      <th>2</th>\n      <th>3</th>\n      <th>4</th>\n      <th>5</th>\n      <th>6</th>\n      <th>7</th>\n      <th>8</th>\n      <th>9</th>\n      <th>...</th>\n      <th>26162</th>\n      <th>26163</th>\n      <th>26164</th>\n      <th>26165</th>\n      <th>26166</th>\n      <th>26167</th>\n      <th>26168</th>\n      <th>26169</th>\n      <th>26170</th>\n      <th>26171</th>\n    </tr>\n    <tr>\n      <th>User-ID</th>\n      <th></th>\n      <th></th>\n      <th></th>\n      <th></th>\n      <th></th>\n      <th></th>\n      <th></th>\n      <th></th>\n      <th></th>\n      <th></th>\n      <th></th>\n      <th></th>\n      <th></th>\n      <th></th>\n      <th></th>\n      <th></th>\n      <th></th>\n      <th></th>\n      <th></th>\n      <th></th>\n      <th></th>\n    </tr>\n  </thead>\n  <tbody>\n    <tr>\n      <th>8</th>\n      <td>0.0</td>\n      <td>0.0</td>\n      <td>0.0</td>\n      <td>6.0</td>\n      <td>0.0</td>\n      <td>0.0</td>\n      <td>0.0</td>\n      <td>0.0</td>\n      <td>0.0</td>\n      <td>0.0</td>\n      <td>...</td>\n      <td>0.0</td>\n      <td>0.0</td>\n      <td>0.0</td>\n      <td>0.0</td>\n      <td>0.0</td>\n      <td>0.0</td>\n      <td>0.0</td>\n      <td>0.0</td>\n      <td>0.0</td>\n      <td>0.0</td>\n    </tr>\n    <tr>\n      <th>14</th>\n      <td>0.0</td>\n      <td>0.0</td>\n      <td>0.0</td>\n      <td>0.0</td>\n      <td>0.0</td>\n      <td>0.0</td>\n      <td>0.0</td>\n      <td>0.0</td>\n      <td>6.0</td>\n      <td>0.0</td>\n      <td>...</td>\n      <td>0.0</td>\n      <td>0.0</td>\n      <td>0.0</td>\n      <td>0.0</td>\n      <td>0.0</td>\n      <td>0.0</td>\n      <td>0.0</td>\n      <td>0.0</td>\n      <td>0.0</td>\n      <td>0.0</td>\n    </tr>\n    <tr>\n      <th>17</th>\n      <td>0.0</td>\n      <td>0.0</td>\n      <td>0.0</td>\n      <td>0.0</td>\n      <td>0.0</td>\n      <td>0.0</td>\n      <td>0.0</td>\n      <td>0.0</td>\n      <td>0.0</td>\n      <td>0.0</td>\n      <td>...</td>\n      <td>0.0</td>\n      <td>0.0</td>\n      <td>0.0</td>\n      <td>0.0</td>\n      <td>0.0</td>\n      <td>0.0</td>\n      <td>0.0</td>\n      <td>0.0</td>\n      <td>0.0</td>\n      <td>0.0</td>\n    </tr>\n    <tr>\n      <th>39</th>\n      <td>0.0</td>\n      <td>0.0</td>\n      <td>0.0</td>\n      <td>0.0</td>\n      <td>0.0</td>\n      <td>0.0</td>\n      <td>0.0</td>\n      <td>0.0</td>\n      <td>0.0</td>\n      <td>0.0</td>\n      <td>...</td>\n      <td>0.0</td>\n      <td>0.0</td>\n      <td>0.0</td>\n      <td>0.0</td>\n      <td>0.0</td>\n      <td>0.0</td>\n      <td>0.0</td>\n      <td>0.0</td>\n      <td>0.0</td>\n      <td>0.0</td>\n    </tr>\n    <tr>\n      <th>95</th>\n      <td>0.0</td>\n      <td>0.0</td>\n      <td>0.0</td>\n      <td>0.0</td>\n      <td>0.0</td>\n      <td>0.0</td>\n      <td>0.0</td>\n      <td>0.0</td>\n      <td>0.0</td>\n      <td>0.0</td>\n      <td>...</td>\n      <td>0.0</td>\n      <td>0.0</td>\n      <td>0.0</td>\n      <td>0.0</td>\n      <td>0.0</td>\n      <td>0.0</td>\n      <td>0.0</td>\n      <td>0.0</td>\n      <td>0.0</td>\n      <td>0.0</td>\n    </tr>\n  </tbody>\n</table>\n<p>5 rows × 26172 columns</p>\n</div>"
          },
          "metadata": {}
        }
      ]
    },
    {
      "cell_type": "code",
      "source": [
        "users_books_pivot_matrix_df = users_books_pivot_matrix_df.values\n",
        "users_books_pivot_matrix_df"
      ],
      "metadata": {
        "execution": {
          "iopub.status.busy": "2024-06-01T16:19:58.392094Z",
          "iopub.execute_input": "2024-06-01T16:19:58.392563Z",
          "iopub.status.idle": "2024-06-01T16:19:58.401427Z",
          "shell.execute_reply.started": "2024-06-01T16:19:58.392505Z",
          "shell.execute_reply": "2024-06-01T16:19:58.400171Z"
        },
        "trusted": true,
        "id": "02BaEQcsdVha",
        "outputId": "b7e44d30-2923-4815-ec45-7cab76ab4973"
      },
      "execution_count": null,
      "outputs": [
        {
          "execution_count": 7,
          "output_type": "execute_result",
          "data": {
            "text/plain": "array([[0., 0., 0., ..., 0., 0., 0.],\n       [0., 0., 0., ..., 0., 0., 0.],\n       [0., 0., 0., ..., 0., 0., 0.],\n       ...,\n       [0., 0., 0., ..., 0., 0., 0.],\n       [0., 0., 0., ..., 0., 0., 0.],\n       [0., 0., 0., ..., 0., 0., 0.]])"
          },
          "metadata": {}
        }
      ]
    },
    {
      "cell_type": "code",
      "source": [
        "from scipy.sparse.linalg import svds\n",
        "\n",
        "NUMBER_OF_FACTORS_MF = 15\n",
        "\n",
        "#Performs matrix factorization of the original user item matrix\n",
        "U, sigma, Vt = svds(users_books_pivot_matrix_df, k = NUMBER_OF_FACTORS_MF)"
      ],
      "metadata": {
        "execution": {
          "iopub.status.busy": "2024-06-01T16:19:58.403163Z",
          "iopub.execute_input": "2024-06-01T16:19:58.403648Z",
          "iopub.status.idle": "2024-06-01T16:20:29.668942Z",
          "shell.execute_reply.started": "2024-06-01T16:19:58.403608Z",
          "shell.execute_reply": "2024-06-01T16:20:29.667036Z"
        },
        "trusted": true,
        "id": "bX7zoZhCdVhb"
      },
      "execution_count": null,
      "outputs": []
    },
    {
      "cell_type": "code",
      "source": [
        "sigma = np.diag(sigma)\n",
        "sigma.shape"
      ],
      "metadata": {
        "execution": {
          "iopub.status.busy": "2024-06-01T16:20:29.672218Z",
          "iopub.execute_input": "2024-06-01T16:20:29.67451Z",
          "iopub.status.idle": "2024-06-01T16:20:29.690707Z",
          "shell.execute_reply.started": "2024-06-01T16:20:29.67445Z",
          "shell.execute_reply": "2024-06-01T16:20:29.688951Z"
        },
        "trusted": true,
        "id": "E024Nu_xdVhb",
        "outputId": "f0e08817-8ca6-48dd-ed3e-9e41613c6ffe"
      },
      "execution_count": null,
      "outputs": [
        {
          "execution_count": 9,
          "output_type": "execute_result",
          "data": {
            "text/plain": "(15, 15)"
          },
          "metadata": {}
        }
      ]
    },
    {
      "cell_type": "code",
      "source": [
        "all_user_predicted_ratings = np.dot(np.dot(U, sigma), Vt)\n",
        "all_user_predicted_ratings"
      ],
      "metadata": {
        "execution": {
          "iopub.status.busy": "2024-06-01T16:20:29.694277Z",
          "iopub.execute_input": "2024-06-01T16:20:29.696855Z",
          "iopub.status.idle": "2024-06-01T16:20:30.703265Z",
          "shell.execute_reply.started": "2024-06-01T16:20:29.696786Z",
          "shell.execute_reply": "2024-06-01T16:20:30.70162Z"
        },
        "trusted": true,
        "id": "WQJjO9wtdVhc",
        "outputId": "4c7bee73-9281-450f-c2da-b22a2458f938"
      },
      "execution_count": null,
      "outputs": [
        {
          "execution_count": 10,
          "output_type": "execute_result",
          "data": {
            "text/plain": "array([[-3.53426282e-34,  2.05025336e-18,  1.69885615e-37, ...,\n         0.00000000e+00,  3.93315082e-21,  0.00000000e+00],\n       [-7.27855150e-34,  5.22277411e-18,  2.34980874e-37, ...,\n         0.00000000e+00,  4.74508914e-21,  0.00000000e+00],\n       [-1.38644424e-36,  6.03611251e-21,  1.18386069e-40, ...,\n         0.00000000e+00,  4.33856388e-24,  0.00000000e+00],\n       ...,\n       [-5.83513074e-35, -7.48260954e-19,  1.08362226e-38, ...,\n         0.00000000e+00, -6.08409210e-22,  0.00000000e+00],\n       [ 8.53696925e-34, -3.08331753e-18, -9.40115427e-38, ...,\n         0.00000000e+00, -3.97355693e-21,  0.00000000e+00],\n       [-2.70566597e-34, -3.53586912e-18,  6.80063204e-38, ...,\n         0.00000000e+00, -2.81258855e-21,  0.00000000e+00]])"
          },
          "metadata": {}
        }
      ]
    },
    {
      "cell_type": "code",
      "source": [
        "def top_cosine_similarity(data, book_id, top_n=10):\n",
        "    index = book_id\n",
        "    book_row = data[index, :]\n",
        "    magnitude = np.sqrt(np.einsum('ij, ij -> i', data, data))\n",
        "    similarity = np.dot(book_row, data.T) / (magnitude[index] * magnitude)\n",
        "    sort_indexes = np.argsort(-similarity)\n",
        "    return sort_indexes[:top_n]\n",
        "\n",
        "def similar_books(book_user_rating, book_id, top_indexes):\n",
        "    print('Recommendations for {0}: \\n'.format(\n",
        "    book_user_rating[book_user_rating.unique_id_book == book_id]['Book-Title'].values[0]))\n",
        "    for id in top_indexes + 1:\n",
        "        print(book_user_rating[book_user_rating.unique_id_book == id]['Book-Title'].values[0])"
      ],
      "metadata": {
        "execution": {
          "iopub.status.busy": "2024-06-01T16:20:30.70611Z",
          "iopub.execute_input": "2024-06-01T16:20:30.707374Z",
          "iopub.status.idle": "2024-06-01T16:20:30.722364Z",
          "shell.execute_reply.started": "2024-06-01T16:20:30.707304Z",
          "shell.execute_reply": "2024-06-01T16:20:30.720275Z"
        },
        "trusted": true,
        "id": "IexppAoLdVhc"
      },
      "execution_count": null,
      "outputs": []
    },
    {
      "cell_type": "code",
      "source": [
        "k = 50\n",
        "movie_id =25954\n",
        "top_n = 3\n",
        "sliced = Vt.T[:, :k] # representative data\n",
        "\n",
        "similar_books(book_user_rating, 25954, top_cosine_similarity(sliced, movie_id, top_n))"
      ],
      "metadata": {
        "execution": {
          "iopub.status.busy": "2024-06-01T16:20:30.725377Z",
          "iopub.execute_input": "2024-06-01T16:20:30.726843Z",
          "iopub.status.idle": "2024-06-01T16:20:30.759028Z",
          "shell.execute_reply.started": "2024-06-01T16:20:30.726772Z",
          "shell.execute_reply": "2024-06-01T16:20:30.757524Z"
        },
        "trusted": true,
        "id": "0qyH9H4fdVhc",
        "outputId": "158f8add-6060-4fcd-fadd-b48b1d8acc1e"
      },
      "execution_count": null,
      "outputs": [
        {
          "name": "stdout",
          "text": "Recommendations for Meditation for Beginners (Headway Guides for Beginners): \n\nDoctored Evidence\nMeditation for Beginners (Headway Guides for Beginners)\nThe Tipping Point: How Little Things Can Make a Big Difference\n",
          "output_type": "stream"
        },
        {
          "name": "stderr",
          "text": "/tmp/ipykernel_33/437162856.py:5: RuntimeWarning: invalid value encountered in divide\n  similarity = np.dot(book_row, data.T) / (magnitude[index] * magnitude)\n",
          "output_type": "stream"
        }
      ]
    }
  ]
}